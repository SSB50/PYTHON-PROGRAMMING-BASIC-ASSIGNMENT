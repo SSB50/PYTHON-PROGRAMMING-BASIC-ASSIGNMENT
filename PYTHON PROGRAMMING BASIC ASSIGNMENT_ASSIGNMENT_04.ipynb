{
 "cells": [
  {
   "cell_type": "markdown",
   "metadata": {},
   "source": [
    "### Q1.\tWrite a Python Program to Find the Factorial of a Number?/"
   ]
  },
  {
   "cell_type": "markdown",
   "metadata": {},
   "source": [
    "### Answer:"
   ]
  },
  {
   "cell_type": "code",
   "execution_count": 1,
   "metadata": {},
   "outputs": [
    {
     "name": "stdout",
     "output_type": "stream",
     "text": [
      "Enter a number: 10\n",
      "The factorial of 10 is 1\n",
      "The factorial of 10 is 2\n",
      "The factorial of 10 is 6\n",
      "The factorial of 10 is 24\n",
      "The factorial of 10 is 120\n",
      "The factorial of 10 is 720\n",
      "The factorial of 10 is 5040\n",
      "The factorial of 10 is 40320\n",
      "The factorial of 10 is 362880\n",
      "The factorial of 10 is 3628800\n"
     ]
    }
   ],
   "source": [
    "n = int(input('Enter a number: ')) \n",
    "factorial = 1\n",
    "for i in range(1,n + 1):\n",
    "    factorial = factorial*i\n",
    "    print(\"The factorial of\",n,\"is\",factorial)"
   ]
  },
  {
   "cell_type": "markdown",
   "metadata": {},
   "source": [
    "### Q2.\tWrite a Python Program to Display the multiplication Table?"
   ]
  },
  {
   "cell_type": "markdown",
   "metadata": {},
   "source": [
    "### Answer:"
   ]
  },
  {
   "cell_type": "code",
   "execution_count": 2,
   "metadata": {},
   "outputs": [
    {
     "name": "stdout",
     "output_type": "stream",
     "text": [
      "Enter the number of multiplication=22\n",
      "22 x 1 = 22\n",
      "22 x 2 = 44\n",
      "22 x 3 = 66\n",
      "22 x 4 = 88\n",
      "22 x 5 = 110\n",
      "22 x 6 = 132\n",
      "22 x 7 = 154\n",
      "22 x 8 = 176\n",
      "22 x 9 = 198\n",
      "22 x 10 = 220\n"
     ]
    }
   ],
   "source": [
    "num=int(input(\"Enter the number of multiplication=\"))\n",
    "for i in range(1, 11):\n",
    "    print(num, 'x', i, '=', num*i)"
   ]
  },
  {
   "cell_type": "markdown",
   "metadata": {},
   "source": [
    "### Q3.\tWrite a Python Program to Print the Fibonacci sequence"
   ]
  },
  {
   "cell_type": "markdown",
   "metadata": {},
   "source": [
    "### Answer:"
   ]
  },
  {
   "cell_type": "code",
   "execution_count": 3,
   "metadata": {},
   "outputs": [
    {
     "name": "stdout",
     "output_type": "stream",
     "text": [
      "34\n"
     ]
    }
   ],
   "source": [
    "def Fibonacci(n):\n",
    "    if n < 0:\n",
    "        print(\"Incorrect input\")\n",
    "    elif n == 0:\n",
    "        return 0\n",
    "    elif n == 1 or n == 2:\n",
    "        return 1\n",
    "    else:\n",
    "        return (Fibonacci(n-1) + Fibonacci(n-2))\n",
    "print(Fibonacci(9))"
   ]
  },
  {
   "cell_type": "markdown",
   "metadata": {},
   "source": [
    "### Q4.\tWrite a Python Program to Check Armstrong Number?"
   ]
  },
  {
   "cell_type": "markdown",
   "metadata": {},
   "source": [
    "### Answer:"
   ]
  },
  {
   "cell_type": "code",
   "execution_count": 30,
   "metadata": {},
   "outputs": [],
   "source": [
    "def Armstrong(x):  \n",
    "    n = order(x)\n",
    "    temp = x\n",
    "    sum1 = 0\n",
    "    while (temp != 0):\n",
    "        r = temp % 10\n",
    "        sum1 = sum1 + power(r, n)\n",
    "        temp = temp // 10\n",
    "    return (sum1 == x)"
   ]
  },
  {
   "cell_type": "markdown",
   "metadata": {},
   "source": [
    "### Q6.\tWrite a Python Program to Find the Sum of Natural Numbers?"
   ]
  },
  {
   "cell_type": "markdown",
   "metadata": {},
   "source": [
    "### Answer:"
   ]
  },
  {
   "cell_type": "code",
   "execution_count": 4,
   "metadata": {},
   "outputs": [
    {
     "name": "stdout",
     "output_type": "stream",
     "text": [
      "Enter a positive number=50\n",
      "The sum is 1275\n"
     ]
    }
   ],
   "source": [
    "num=int(input(\"Enter a positive number=\"))\n",
    "if num < 0:\n",
    "    print(\"Enter a positive number\")\n",
    "else:\n",
    "    sum = 0\n",
    "    while(num > 0):\n",
    "        sum += num\n",
    "        num -= 1\n",
    "print(\"The sum is\", sum)"
   ]
  }
 ],
 "metadata": {
  "kernelspec": {
   "display_name": "Python 3",
   "language": "python",
   "name": "python3"
  },
  "language_info": {
   "codemirror_mode": {
    "name": "ipython",
    "version": 3
   },
   "file_extension": ".py",
   "mimetype": "text/x-python",
   "name": "python",
   "nbconvert_exporter": "python",
   "pygments_lexer": "ipython3",
   "version": "3.7.6"
  }
 },
 "nbformat": 4,
 "nbformat_minor": 4
}
