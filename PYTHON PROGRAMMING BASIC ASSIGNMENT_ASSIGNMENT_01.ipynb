{
 "cells": [
  {
   "cell_type": "markdown",
   "metadata": {},
   "source": [
    "### Q1.\tWrite a Python program to print \"Hello Python\"?"
   ]
  },
  {
   "cell_type": "markdown",
   "metadata": {},
   "source": [
    "### Answer:"
   ]
  },
  {
   "cell_type": "code",
   "execution_count": 1,
   "metadata": {},
   "outputs": [
    {
     "name": "stdout",
     "output_type": "stream",
     "text": [
      "Hello Python\n"
     ]
    }
   ],
   "source": [
    "h=\"Hello Python\"\n",
    "print(h) "
   ]
  },
  {
   "cell_type": "markdown",
   "metadata": {},
   "source": [
    "### Q2.\tWrite a Python program to do arithmetical operations addition and division.?"
   ]
  },
  {
   "cell_type": "code",
   "execution_count": 2,
   "metadata": {},
   "outputs": [
    {
     "name": "stdout",
     "output_type": "stream",
     "text": [
      "Enter the numerical value= 5.678\n",
      "Enter the numerical value= 8.145\n",
      "a+b= 13.823\n",
      "a/b= 0.6971147943523635\n"
     ]
    }
   ],
   "source": [
    "a=float(input(\"Enter the numerical value= \"))\n",
    "b=float(input(\"Enter the numerical value= \"))\n",
    "print(\"a+b=\",(a+b))\n",
    "print(\"a/b=\", (a/b))"
   ]
  },
  {
   "cell_type": "markdown",
   "metadata": {},
   "source": [
    "### Q3.\tWrite a Python program to find the area of a triangle?"
   ]
  },
  {
   "cell_type": "markdown",
   "metadata": {},
   "source": [
    "### Answer:"
   ]
  },
  {
   "cell_type": "code",
   "execution_count": 3,
   "metadata": {},
   "outputs": [
    {
     "name": "stdout",
     "output_type": "stream",
     "text": [
      "Enter the value of the base of the triangle (in cm)=2.5\n",
      "Enter the value of the height of the triangle (in cm)=2.5\n",
      "The area of the triangle is (in sq.cm)= 3.125\n"
     ]
    }
   ],
   "source": [
    "base=float(input(\"Enter the value of the base of the triangle (in cm)=\"))\n",
    "height=float(input(\"Enter the value of the height of the triangle (in cm)=\"))\n",
    "print(\"The area of the triangle is (in sq.cm)=\", (base*height)/2)"
   ]
  },
  {
   "cell_type": "markdown",
   "metadata": {},
   "source": [
    "### Q4.\tWrite a Python program to swap two variables?"
   ]
  },
  {
   "cell_type": "markdown",
   "metadata": {},
   "source": [
    "### Answer:"
   ]
  },
  {
   "cell_type": "code",
   "execution_count": 4,
   "metadata": {},
   "outputs": [
    {
     "name": "stdout",
     "output_type": "stream",
     "text": [
      "Enter a numeric value,x=2\n",
      "Enter another numeric value,y=5\n",
      "After Swapping: x = 5.0  y = 2.0\n"
     ]
    }
   ],
   "source": [
    "x = float(input(\"Enter a numeric value,x=\"))\n",
    "y = float(input(\"Enter another numeric value,y=\"))\n",
    "x = x + y\n",
    "y = x - y\n",
    "x = x - y\n",
    "print(\"After Swapping: x =\", x, \" y =\", y)"
   ]
  },
  {
   "cell_type": "markdown",
   "metadata": {},
   "source": [
    "### Q5.\tWrite a Python program to generate a random number?"
   ]
  },
  {
   "cell_type": "markdown",
   "metadata": {},
   "source": [
    "### Answer:"
   ]
  },
  {
   "cell_type": "code",
   "execution_count": 5,
   "metadata": {},
   "outputs": [
    {
     "name": "stdout",
     "output_type": "stream",
     "text": [
      "0.9471529131027088\n"
     ]
    }
   ],
   "source": [
    "import random\n",
    "print(random.random())"
   ]
  }
 ],
 "metadata": {
  "kernelspec": {
   "display_name": "Python 3",
   "language": "python",
   "name": "python3"
  },
  "language_info": {
   "codemirror_mode": {
    "name": "ipython",
    "version": 3
   },
   "file_extension": ".py",
   "mimetype": "text/x-python",
   "name": "python",
   "nbconvert_exporter": "python",
   "pygments_lexer": "ipython3",
   "version": "3.7.6"
  }
 },
 "nbformat": 4,
 "nbformat_minor": 4
}
