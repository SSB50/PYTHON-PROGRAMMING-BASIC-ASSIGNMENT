{
 "cells": [
  {
   "cell_type": "markdown",
   "metadata": {},
   "source": [
    "### Q1.\tWrite a Python Program to Find LCM?"
   ]
  },
  {
   "cell_type": "markdown",
   "metadata": {},
   "source": [
    "### Answer:"
   ]
  },
  {
   "cell_type": "code",
   "execution_count": 1,
   "metadata": {},
   "outputs": [],
   "source": [
    "def lcm(x,y):\n",
    "    if x > y:\n",
    "           greater = x\n",
    "    else:\n",
    "           greater = y\n",
    "    while(True):\n",
    "            if((greater % x == 0) and (greater % y == 0)):\n",
    "                lcm = greater\n",
    "                break\n",
    "            greater += 1\n",
    "    return lcm"
   ]
  },
  {
   "cell_type": "code",
   "execution_count": 2,
   "metadata": {},
   "outputs": [
    {
     "data": {
      "text/plain": [
       "12"
      ]
     },
     "execution_count": 2,
     "metadata": {},
     "output_type": "execute_result"
    }
   ],
   "source": [
    "lcm(3,4)"
   ]
  },
  {
   "cell_type": "markdown",
   "metadata": {},
   "source": [
    "### Q2.\tWrite a Python Program to Find HCF?"
   ]
  },
  {
   "cell_type": "markdown",
   "metadata": {},
   "source": [
    "### Answer:"
   ]
  },
  {
   "cell_type": "code",
   "execution_count": 3,
   "metadata": {},
   "outputs": [],
   "source": [
    "def hcf(x, y):\n",
    "    if x > y:\n",
    "        smaller = y\n",
    "    else:\n",
    "        smaller = x\n",
    "    for i in range(1, smaller+1):\n",
    "        if((x % i == 0) and (y % i == 0)):\n",
    "            hcf = i \n",
    "    return hcf"
   ]
  },
  {
   "cell_type": "code",
   "execution_count": 4,
   "metadata": {},
   "outputs": [
    {
     "data": {
      "text/plain": [
       "5"
      ]
     },
     "execution_count": 4,
     "metadata": {},
     "output_type": "execute_result"
    }
   ],
   "source": [
    "hcf(15,20)"
   ]
  },
  {
   "cell_type": "markdown",
   "metadata": {},
   "source": [
    "### Q3.\tWrite a Python Program to Convert Decimal to Binary, Octal and Hexadecimal?"
   ]
  },
  {
   "cell_type": "code",
   "execution_count": 5,
   "metadata": {
    "scrolled": true
   },
   "outputs": [
    {
     "name": "stdout",
     "output_type": "stream",
     "text": [
      "Enter the Decimal value=56\n",
      "Decimal to Binary is= 0b111000\n",
      "Decimal to Octal is= 0o70\n",
      "Decimal to Hexadecimal is= 0x38\n",
      "Thank you\n"
     ]
    }
   ],
   "source": [
    "try:\n",
    "    n=int(input(\"Enter the Decimal value=\"))\n",
    "    print(\"Decimal to Binary is=\", bin(n))\n",
    "    print(\"Decimal to Octal is=\", oct(n))\n",
    "    print(\"Decimal to Hexadecimal is=\", hex(n))\n",
    "except Exception as e:\n",
    "    print(\"You have entered wrong value\",e)\n",
    "finally:\n",
    "    print(\"Thank you\")"
   ]
  },
  {
   "cell_type": "markdown",
   "metadata": {},
   "source": [
    "### Q4.\tWrite a Python Program To Find ASCII value of a character?"
   ]
  },
  {
   "cell_type": "markdown",
   "metadata": {},
   "source": [
    "### Answer:"
   ]
  },
  {
   "cell_type": "code",
   "execution_count": 6,
   "metadata": {},
   "outputs": [
    {
     "name": "stdout",
     "output_type": "stream",
     "text": [
      "Enter a string value=h\n",
      "The ASCII value of given value= 104\n"
     ]
    }
   ],
   "source": [
    "try:\n",
    "    a=input(\"Enter a string value=\")\n",
    "    print(\"The ASCII value of given value=\" ,ord(a))\n",
    "except Exception as e:\n",
    "    print(\"You have entered a wong input\",e)"
   ]
  },
  {
   "cell_type": "markdown",
   "metadata": {},
   "source": [
    "### Q5.\tWrite a Python Program to Make a Simple Calculator with 4 basic mathematical operations?"
   ]
  },
  {
   "cell_type": "markdown",
   "metadata": {},
   "source": [
    "### Answer:"
   ]
  },
  {
   "cell_type": "code",
   "execution_count": 7,
   "metadata": {},
   "outputs": [
    {
     "name": "stdout",
     "output_type": "stream",
     "text": [
      "Enter an integer value=315.23\n",
      "Enter an integer value=684.56\n",
      "Addition: 999.79\n",
      "Subtraction: -369.3299999999999\n",
      "Multiplication 215793.8488\n",
      "Division 0.4604855673717425\n",
      "Thank you!!\n"
     ]
    }
   ],
   "source": [
    "try:\n",
    "    a=float(input(\"Enter an integer value=\"))\n",
    "    b=float(input(\"Enter an integer value=\"))\n",
    "    add=a+b\n",
    "    sub=a-b\n",
    "    mul=a*b\n",
    "    div=a/b\n",
    "    print(\"Addition:\",add)\n",
    "    print(\"Subtraction:\",sub)\n",
    "    print(\"Multiplication\",mul)\n",
    "    print(\"Division\",div)\n",
    "except Exception as e:\n",
    "    print(\"You have entered a wrong input!!\")\n",
    "finally:\n",
    "    print(\"Thank you!!\")"
   ]
  }
 ],
 "metadata": {
  "kernelspec": {
   "display_name": "Python 3",
   "language": "python",
   "name": "python3"
  },
  "language_info": {
   "codemirror_mode": {
    "name": "ipython",
    "version": 3
   },
   "file_extension": ".py",
   "mimetype": "text/x-python",
   "name": "python",
   "nbconvert_exporter": "python",
   "pygments_lexer": "ipython3",
   "version": "3.7.6"
  }
 },
 "nbformat": 4,
 "nbformat_minor": 4
}
